{
 "cells": [
  {
   "cell_type": "code",
   "execution_count": 10,
   "metadata": {},
   "outputs": [],
   "source": [
    "import duckdb\n",
    "import pandas as pd"
   ]
  },
  {
   "cell_type": "markdown",
   "metadata": {},
   "source": [
    "### Run on in-memory database"
   ]
  },
  {
   "cell_type": "code",
   "execution_count": 11,
   "metadata": {},
   "outputs": [
    {
     "name": "stdout",
     "output_type": "stream",
     "text": [
      "┌─────────────┬─────────┬───────┬────────────────────────┐\n",
      "│ Nationality │  Name   │  Age  │         hobby          │\n",
      "│   varchar   │ varchar │ int32 │       varchar[]        │\n",
      "├─────────────┼─────────┼───────┼────────────────────────┤\n",
      "│ French      │ Marie   │    24 │ [tennis, soccer, golf] │\n",
      "└─────────────┴─────────┴───────┴────────────────────────┘\n",
      "\n"
     ]
    }
   ],
   "source": [
    "# run queries using an in-memory database\n",
    "test = duckdb.sql(\"select 'French' as Nationality, 'Marie' as Name, 24 as Age, ['tennis','soccer','golf'] as hobby\")\n",
    "print(test)"
   ]
  },
  {
   "cell_type": "code",
   "execution_count": 12,
   "metadata": {},
   "outputs": [
    {
     "data": {
      "text/plain": [
       "┌──────────┬──────────┬──────────┐\n",
       "│ hobby[1] │ hobby[2] │ hobby[3] │\n",
       "│ varchar  │ varchar  │ varchar  │\n",
       "├──────────┼──────────┼──────────┤\n",
       "│ tennis   │ soccer   │ golf     │\n",
       "└──────────┴──────────┴──────────┘"
      ]
     },
     "execution_count": 12,
     "metadata": {},
     "output_type": "execute_result"
    }
   ],
   "source": [
    "duckdb.sql('select hobby[1], hobby[2], hobby[3] from test')"
   ]
  },
  {
   "cell_type": "markdown",
   "metadata": {},
   "source": [
    "### Read local file as a table"
   ]
  },
  {
   "cell_type": "code",
   "execution_count": 13,
   "metadata": {},
   "outputs": [
    {
     "data": {
      "text/plain": [
       "┌────────────┬─────────────────────┬──────────────────┬────────┬─────────────────┬───────────────────────┬───────────────────────┬────────┬───────────────┬──────────────────┬────────┬────────────┬─────────┬─────────┬────────────┐\n",
       "│ is_diabete │ high_blood_pressure │ high_cholesterol │  bmi   │      smoke      │       exercise        │        alcohol        │ gender │ mental_health │       edu        │ income │ employment │  race   │ flushot │   state    │\n",
       "│   int64    │       double        │      double      │ double │     varchar     │        double         │        double         │ int64  │    double     │     varchar      │ double │   double   │ varchar │ double  │  varchar   │\n",
       "├────────────┼─────────────────────┼──────────────────┼────────┼─────────────────┼───────────────────────┼───────────────────────┼────────┼───────────────┼──────────────────┼────────┼────────────┼─────────┼─────────┼────────────┤\n",
       "│          0 │                 1.0 │              0.0 │ 2650.0 │ never_smoked    │                3000.0 │ 5.397605346934028e-79 │      1 │           1.0 │ college_grad     │    9.0 │        0.0 │ white   │     0.0 │ Washington │\n",
       "│          0 │                 0.0 │              1.0 │ 3269.0 │ never_smoked    │                1000.0 │ 5.397605346934028e-79 │      0 │           0.0 │ college_grad     │   11.0 │        1.0 │ white   │     0.0 │ Washington │\n",
       "│          1 │                 0.0 │              0.0 │ 2763.0 │ everyday_smoker │                1000.0 │                 187.0 │      0 │           0.0 │ highschool_grad  │    6.0 │        0.0 │ white   │     0.0 │ Washington │\n",
       "│          1 │                 0.0 │              0.0 │ 2509.0 │ never_smoked    │                2000.0 │ 5.397605346934028e-79 │      1 │           0.0 │ attended_college │    6.0 │        0.0 │ white   │     1.0 │ Washington │\n",
       "│          0 │                 1.0 │              1.0 │ 2661.0 │ never_smoked    │                4667.0 │ 5.397605346934028e-79 │      1 │           0.0 │ attended_college │    6.0 │        1.0 │ black   │     0.0 │ Washington │\n",
       "│          1 │                 1.0 │              1.0 │ 2579.0 │ everyday_smoker │ 5.397605346934028e-79 │ 5.397605346934028e-79 │      1 │           0.0 │ attended_college │   NULL │        0.0 │ white   │     1.0 │ Washington │\n",
       "│          0 │                 1.0 │              0.0 │ 3366.0 │ never_smoked    │                2333.0 │ 5.397605346934028e-79 │      0 │           5.0 │ NULL             │   NULL │        1.0 │ black   │     0.0 │ Washington │\n",
       "│          0 │                 0.0 │              0.0 │ 3958.0 │ never_smoked    │ 5.397605346934028e-79 │ 5.397605346934028e-79 │      1 │          30.0 │ college_grad     │    9.0 │        1.0 │ white   │     0.0 │ Washington │\n",
       "│          0 │                 1.0 │              0.0 │ 2193.0 │ everyday_smoker │ 5.397605346934028e-79 │                2100.0 │      0 │           0.0 │ highschool_grad  │   NULL │        0.0 │ white   │     1.0 │ Washington │\n",
       "│          0 │                 1.0 │              1.0 │ 2731.0 │ never_smoked    │                1000.0 │ 5.397605346934028e-79 │      1 │           2.0 │ college_grad     │    6.0 │        0.0 │ white   │     0.0 │ Washington │\n",
       "├────────────┴─────────────────────┴──────────────────┴────────┴─────────────────┴───────────────────────┴───────────────────────┴────────┴───────────────┴──────────────────┴────────┴────────────┴─────────┴─────────┴────────────┤\n",
       "│ 10 rows                                                                                                                                                                                                                15 columns │\n",
       "└───────────────────────────────────────────────────────────────────────────────────────────────────────────────────────────────────────────────────────────────────────────────────────────────────────────────────────────────────┘"
      ]
     },
     "execution_count": 13,
     "metadata": {},
     "output_type": "execute_result"
    }
   ],
   "source": [
    "# 1. use file path directly into from statement\n",
    "duckdb.sql('select * from \"data/health_survey.csv\" limit 10')"
   ]
  },
  {
   "cell_type": "code",
   "execution_count": 14,
   "metadata": {},
   "outputs": [
    {
     "data": {
      "text/plain": [
       "┌────────────┬─────────────────────┬──────────────────┬────────┬─────────────────┬───────────────────────┬───────────────────────┬────────┬───────────────┬──────────────────┬────────┬────────────┬─────────┬─────────┬────────────┐\n",
       "│ is_diabete │ high_blood_pressure │ high_cholesterol │  bmi   │      smoke      │       exercise        │        alcohol        │ gender │ mental_health │       edu        │ income │ employment │  race   │ flushot │   state    │\n",
       "│   int64    │       double        │      double      │ double │     varchar     │        double         │        double         │ int64  │    double     │     varchar      │ double │   double   │ varchar │ double  │  varchar   │\n",
       "├────────────┼─────────────────────┼──────────────────┼────────┼─────────────────┼───────────────────────┼───────────────────────┼────────┼───────────────┼──────────────────┼────────┼────────────┼─────────┼─────────┼────────────┤\n",
       "│          0 │                 1.0 │              0.0 │ 2650.0 │ never_smoked    │                3000.0 │ 5.397605346934028e-79 │      1 │           1.0 │ college_grad     │    9.0 │        0.0 │ white   │     0.0 │ Washington │\n",
       "│          0 │                 0.0 │              1.0 │ 3269.0 │ never_smoked    │                1000.0 │ 5.397605346934028e-79 │      0 │           0.0 │ college_grad     │   11.0 │        1.0 │ white   │     0.0 │ Washington │\n",
       "│          1 │                 0.0 │              0.0 │ 2763.0 │ everyday_smoker │                1000.0 │                 187.0 │      0 │           0.0 │ highschool_grad  │    6.0 │        0.0 │ white   │     0.0 │ Washington │\n",
       "│          1 │                 0.0 │              0.0 │ 2509.0 │ never_smoked    │                2000.0 │ 5.397605346934028e-79 │      1 │           0.0 │ attended_college │    6.0 │        0.0 │ white   │     1.0 │ Washington │\n",
       "│          0 │                 1.0 │              1.0 │ 2661.0 │ never_smoked    │                4667.0 │ 5.397605346934028e-79 │      1 │           0.0 │ attended_college │    6.0 │        1.0 │ black   │     0.0 │ Washington │\n",
       "│          1 │                 1.0 │              1.0 │ 2579.0 │ everyday_smoker │ 5.397605346934028e-79 │ 5.397605346934028e-79 │      1 │           0.0 │ attended_college │   NULL │        0.0 │ white   │     1.0 │ Washington │\n",
       "│          0 │                 1.0 │              0.0 │ 3366.0 │ never_smoked    │                2333.0 │ 5.397605346934028e-79 │      0 │           5.0 │ NULL             │   NULL │        1.0 │ black   │     0.0 │ Washington │\n",
       "│          0 │                 0.0 │              0.0 │ 3958.0 │ never_smoked    │ 5.397605346934028e-79 │ 5.397605346934028e-79 │      1 │          30.0 │ college_grad     │    9.0 │        1.0 │ white   │     0.0 │ Washington │\n",
       "│          0 │                 1.0 │              0.0 │ 2193.0 │ everyday_smoker │ 5.397605346934028e-79 │                2100.0 │      0 │           0.0 │ highschool_grad  │   NULL │        0.0 │ white   │     1.0 │ Washington │\n",
       "│          0 │                 1.0 │              1.0 │ 2731.0 │ never_smoked    │                1000.0 │ 5.397605346934028e-79 │      1 │           2.0 │ college_grad     │    6.0 │        0.0 │ white   │     0.0 │ Washington │\n",
       "├────────────┴─────────────────────┴──────────────────┴────────┴─────────────────┴───────────────────────┴───────────────────────┴────────┴───────────────┴──────────────────┴────────┴────────────┴─────────┴─────────┴────────────┤\n",
       "│ 10 rows                                                                                                                                                                                                                15 columns │\n",
       "└───────────────────────────────────────────────────────────────────────────────────────────────────────────────────────────────────────────────────────────────────────────────────────────────────────────────────────────────────┘"
      ]
     },
     "execution_count": 14,
     "metadata": {},
     "output_type": "execute_result"
    }
   ],
   "source": [
    "# 2. load csv file and save it as a table\n",
    "try_csv = duckdb.read_csv('data/health_survey.csv')\n",
    "duckdb.sql('select * from try_csv limit 10')"
   ]
  },
  {
   "cell_type": "code",
   "execution_count": 15,
   "metadata": {},
   "outputs": [
    {
     "data": {
      "text/plain": [
       "┌────────────┬─────────────────────┬──────────────────┬────────┬─────────────────┬───────────────────────┬───────────────────────┬────────┬───────────────┬──────────────────┬────────┬────────────┬─────────┬─────────┬────────────┐\n",
       "│ is_diabete │ high_blood_pressure │ high_cholesterol │  bmi   │      smoke      │       exercise        │        alcohol        │ gender │ mental_health │       edu        │ income │ employment │  race   │ flushot │   state    │\n",
       "│   int64    │       double        │      double      │ double │     varchar     │        double         │        double         │ int64  │    double     │     varchar      │ double │   double   │ varchar │ double  │  varchar   │\n",
       "├────────────┼─────────────────────┼──────────────────┼────────┼─────────────────┼───────────────────────┼───────────────────────┼────────┼───────────────┼──────────────────┼────────┼────────────┼─────────┼─────────┼────────────┤\n",
       "│          0 │                 1.0 │              0.0 │ 2650.0 │ never_smoked    │                3000.0 │ 5.397605346934028e-79 │      1 │           1.0 │ college_grad     │    9.0 │        0.0 │ white   │     0.0 │ Washington │\n",
       "│          0 │                 0.0 │              1.0 │ 3269.0 │ never_smoked    │                1000.0 │ 5.397605346934028e-79 │      0 │           0.0 │ college_grad     │   11.0 │        1.0 │ white   │     0.0 │ Washington │\n",
       "│          1 │                 0.0 │              0.0 │ 2763.0 │ everyday_smoker │                1000.0 │                 187.0 │      0 │           0.0 │ highschool_grad  │    6.0 │        0.0 │ white   │     0.0 │ Washington │\n",
       "│          1 │                 0.0 │              0.0 │ 2509.0 │ never_smoked    │                2000.0 │ 5.397605346934028e-79 │      1 │           0.0 │ attended_college │    6.0 │        0.0 │ white   │     1.0 │ Washington │\n",
       "│          0 │                 1.0 │              1.0 │ 2661.0 │ never_smoked    │                4667.0 │ 5.397605346934028e-79 │      1 │           0.0 │ attended_college │    6.0 │        1.0 │ black   │     0.0 │ Washington │\n",
       "│          1 │                 1.0 │              1.0 │ 2579.0 │ everyday_smoker │ 5.397605346934028e-79 │ 5.397605346934028e-79 │      1 │           0.0 │ attended_college │   NULL │        0.0 │ white   │     1.0 │ Washington │\n",
       "│          0 │                 1.0 │              0.0 │ 3366.0 │ never_smoked    │                2333.0 │ 5.397605346934028e-79 │      0 │           5.0 │ NULL             │   NULL │        1.0 │ black   │     0.0 │ Washington │\n",
       "│          0 │                 0.0 │              0.0 │ 3958.0 │ never_smoked    │ 5.397605346934028e-79 │ 5.397605346934028e-79 │      1 │          30.0 │ college_grad     │    9.0 │        1.0 │ white   │     0.0 │ Washington │\n",
       "│          0 │                 1.0 │              0.0 │ 2193.0 │ everyday_smoker │ 5.397605346934028e-79 │                2100.0 │      0 │           0.0 │ highschool_grad  │   NULL │        0.0 │ white   │     1.0 │ Washington │\n",
       "│          0 │                 1.0 │              1.0 │ 2731.0 │ never_smoked    │                1000.0 │ 5.397605346934028e-79 │      1 │           2.0 │ college_grad     │    6.0 │        0.0 │ white   │     0.0 │ Washington │\n",
       "├────────────┴─────────────────────┴──────────────────┴────────┴─────────────────┴───────────────────────┴───────────────────────┴────────┴───────────────┴──────────────────┴────────┴────────────┴─────────┴─────────┴────────────┤\n",
       "│ 10 rows                                                                                                                                                                                                                15 columns │\n",
       "└───────────────────────────────────────────────────────────────────────────────────────────────────────────────────────────────────────────────────────────────────────────────────────────────────────────────────────────────────┘"
      ]
     },
     "execution_count": 15,
     "metadata": {},
     "output_type": "execute_result"
    }
   ],
   "source": [
    "# 3. read pandas dataframe as a table - read only\n",
    "survey_df = pd.read_csv('data/health_survey.csv')\n",
    "duckdb.sql('select * from survey_df limit 10')"
   ]
  },
  {
   "cell_type": "code",
   "execution_count": 16,
   "metadata": {},
   "outputs": [
    {
     "data": {
      "text/html": [
       "<div>\n",
       "<style scoped>\n",
       "    .dataframe tbody tr th:only-of-type {\n",
       "        vertical-align: middle;\n",
       "    }\n",
       "\n",
       "    .dataframe tbody tr th {\n",
       "        vertical-align: top;\n",
       "    }\n",
       "\n",
       "    .dataframe thead th {\n",
       "        text-align: right;\n",
       "    }\n",
       "</style>\n",
       "<table border=\"1\" class=\"dataframe\">\n",
       "  <thead>\n",
       "    <tr style=\"text-align: right;\">\n",
       "      <th></th>\n",
       "      <th>Item</th>\n",
       "      <th>group_</th>\n",
       "      <th>State_Name</th>\n",
       "      <th>Y2020</th>\n",
       "    </tr>\n",
       "  </thead>\n",
       "  <tbody>\n",
       "    <tr>\n",
       "      <th>0</th>\n",
       "      <td>Personal Health Care ($)</td>\n",
       "      <td>State</td>\n",
       "      <td>Alabama</td>\n",
       "      <td>9280</td>\n",
       "    </tr>\n",
       "    <tr>\n",
       "      <th>1</th>\n",
       "      <td>Personal Health Care ($)</td>\n",
       "      <td>State</td>\n",
       "      <td>Alaska</td>\n",
       "      <td>13642</td>\n",
       "    </tr>\n",
       "    <tr>\n",
       "      <th>2</th>\n",
       "      <td>Personal Health Care ($)</td>\n",
       "      <td>State</td>\n",
       "      <td>Arizona</td>\n",
       "      <td>8756</td>\n",
       "    </tr>\n",
       "    <tr>\n",
       "      <th>3</th>\n",
       "      <td>Personal Health Care ($)</td>\n",
       "      <td>State</td>\n",
       "      <td>Arkansas</td>\n",
       "      <td>9338</td>\n",
       "    </tr>\n",
       "    <tr>\n",
       "      <th>4</th>\n",
       "      <td>Personal Health Care ($)</td>\n",
       "      <td>State</td>\n",
       "      <td>California</td>\n",
       "      <td>10299</td>\n",
       "    </tr>\n",
       "    <tr>\n",
       "      <th>...</th>\n",
       "      <td>...</td>\n",
       "      <td>...</td>\n",
       "      <td>...</td>\n",
       "      <td>...</td>\n",
       "    </tr>\n",
       "    <tr>\n",
       "      <th>505</th>\n",
       "      <td>Other Health, Residential, and Personal Care ($)</td>\n",
       "      <td>State</td>\n",
       "      <td>Virginia</td>\n",
       "      <td>491</td>\n",
       "    </tr>\n",
       "    <tr>\n",
       "      <th>506</th>\n",
       "      <td>Other Health, Residential, and Personal Care ($)</td>\n",
       "      <td>State</td>\n",
       "      <td>Washington</td>\n",
       "      <td>714</td>\n",
       "    </tr>\n",
       "    <tr>\n",
       "      <th>507</th>\n",
       "      <td>Other Health, Residential, and Personal Care ($)</td>\n",
       "      <td>State</td>\n",
       "      <td>West Virginia</td>\n",
       "      <td>637</td>\n",
       "    </tr>\n",
       "    <tr>\n",
       "      <th>508</th>\n",
       "      <td>Other Health, Residential, and Personal Care ($)</td>\n",
       "      <td>State</td>\n",
       "      <td>Wisconsin</td>\n",
       "      <td>486</td>\n",
       "    </tr>\n",
       "    <tr>\n",
       "      <th>509</th>\n",
       "      <td>Other Health, Residential, and Personal Care ($)</td>\n",
       "      <td>State</td>\n",
       "      <td>Wyoming</td>\n",
       "      <td>630</td>\n",
       "    </tr>\n",
       "  </tbody>\n",
       "</table>\n",
       "<p>510 rows × 4 columns</p>\n",
       "</div>"
      ],
      "text/plain": [
       "                                                 Item group_     State_Name  \\\n",
       "0                            Personal Health Care ($)  State        Alabama   \n",
       "1                            Personal Health Care ($)  State         Alaska   \n",
       "2                            Personal Health Care ($)  State        Arizona   \n",
       "3                            Personal Health Care ($)  State       Arkansas   \n",
       "4                            Personal Health Care ($)  State     California   \n",
       "..                                                ...    ...            ...   \n",
       "505  Other Health, Residential, and Personal Care ($)  State       Virginia   \n",
       "506  Other Health, Residential, and Personal Care ($)  State     Washington   \n",
       "507  Other Health, Residential, and Personal Care ($)  State  West Virginia   \n",
       "508  Other Health, Residential, and Personal Care ($)  State      Wisconsin   \n",
       "509  Other Health, Residential, and Personal Care ($)  State        Wyoming   \n",
       "\n",
       "     Y2020  \n",
       "0     9280  \n",
       "1    13642  \n",
       "2     8756  \n",
       "3     9338  \n",
       "4    10299  \n",
       "..     ...  \n",
       "505    491  \n",
       "506    714  \n",
       "507    637  \n",
       "508    486  \n",
       "509    630  \n",
       "\n",
       "[510 rows x 4 columns]"
      ]
     },
     "execution_count": 16,
     "metadata": {},
     "output_type": "execute_result"
    }
   ],
   "source": [
    "# 3. read pandas dataframe as a table - read only\n",
    "health_exp = pd.read_csv('data/US_PER_CAPITA20.CSV')\n",
    "health_exp = health_exp.rename(columns={'Group':'group_'})\n",
    "\n",
    "health_exp_tb = duckdb.sql(\"select Item, group_, State_Name, Y2020 from health_exp where group_ = 'State'\").df()\n",
    "health_exp_tb"
   ]
  },
  {
   "cell_type": "markdown",
   "metadata": {},
   "source": [
    "### Run on disk"
   ]
  },
  {
   "cell_type": "code",
   "execution_count": 17,
   "metadata": {},
   "outputs": [],
   "source": [
    "# create db and save data on disk\n",
    "con = duckdb.connect(\"data/diabetes_db.db\")\n",
    "con.sql('CREATE TABLE test (name varchar, age int, hobby varchar[])')\n",
    "con.sql(\"INSERT INTO test VALUES ('Marie', 13, ['hockey','squash'])\")\n",
    "con.close()"
   ]
  },
  {
   "cell_type": "code",
   "execution_count": 18,
   "metadata": {},
   "outputs": [
    {
     "name": "stdout",
     "output_type": "stream",
     "text": [
      "-- table list --\n",
      "┌───────────────┐\n",
      "│     name      │\n",
      "│    varchar    │\n",
      "├───────────────┤\n",
      "│ health_exp_tb │\n",
      "│ survey        │\n",
      "│ test          │\n",
      "└───────────────┘\n",
      "\n",
      "-- test table --\n",
      "┌─────────┬───────┬──────────────────┐\n",
      "│  name   │  age  │      hobby       │\n",
      "│ varchar │ int32 │    varchar[]     │\n",
      "├─────────┼───────┼──────────────────┤\n",
      "│ Marie   │    13 │ [hockey, squash] │\n",
      "└─────────┴───────┴──────────────────┘\n",
      "\n"
     ]
    }
   ],
   "source": [
    "with duckdb.connect('data/diabetes_db.db') as con:\n",
    "    print('-- table list --')\n",
    "    print(con.sql('show tables'))\n",
    "    print('-- test table --')\n",
    "    print(con.sql('select * from test'))"
   ]
  },
  {
   "cell_type": "markdown",
   "metadata": {},
   "source": [
    "### add table of Pandas DataFrame into database "
   ]
  },
  {
   "cell_type": "code",
   "execution_count": null,
   "metadata": {},
   "outputs": [
    {
     "name": "stdout",
     "output_type": "stream",
     "text": [
      "┌───────────────┐\n",
      "│     name      │\n",
      "│    varchar    │\n",
      "├───────────────┤\n",
      "│ health_exp_tb │\n",
      "│ survey        │\n",
      "└───────────────┘\n",
      "\n"
     ]
    }
   ],
   "source": [
    "with duckdb.connect('data/diabetes_db.db') as conn:\n",
    "    conn.sql('drop table test')\n",
    "    conn.sql('CREATE TABLE survey AS (select * from survey_df)')\n",
    "    conn.sql('CREATE TABLE health_exp_tb AS (select * from health_exp_tb)')\n",
    "    print(conn.sql('show tables'))"
   ]
  },
  {
   "cell_type": "code",
   "execution_count": null,
   "metadata": {},
   "outputs": [],
   "source": []
  }
 ],
 "metadata": {
  "kernelspec": {
   "display_name": "py3",
   "language": "python",
   "name": "python3"
  },
  "language_info": {
   "codemirror_mode": {
    "name": "ipython",
    "version": 3
   },
   "file_extension": ".py",
   "mimetype": "text/x-python",
   "name": "python",
   "nbconvert_exporter": "python",
   "pygments_lexer": "ipython3",
   "version": "3.12.2"
  }
 },
 "nbformat": 4,
 "nbformat_minor": 2
}
